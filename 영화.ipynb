{
  "nbformat": 4,
  "nbformat_minor": 0,
  "metadata": {
    "colab": {
      "name": "영화.ipynb",
      "provenance": [],
      "authorship_tag": "ABX9TyP1Dh0ak8Fjdc5/mXiLcdao",
      "include_colab_link": true
    },
    "kernelspec": {
      "name": "python3",
      "display_name": "Python 3"
    },
    "language_info": {
      "name": "python"
    }
  },
  "cells": [
    {
      "cell_type": "markdown",
      "metadata": {
        "id": "view-in-github",
        "colab_type": "text"
      },
      "source": [
        "<a href=\"https://colab.research.google.com/github/bogyeonggim/test2/blob/main/%EC%98%81%ED%99%94.ipynb\" target=\"_parent\"><img src=\"https://colab.research.google.com/assets/colab-badge.svg\" alt=\"Open In Colab\"/></a>"
      ]
    },
    {
      "cell_type": "code",
      "execution_count": 1,
      "metadata": {
        "id": "istlpMLMSdjD"
      },
      "outputs": [],
      "source": [
        "import requests "
      ]
    },
    {
      "cell_type": "code",
      "source": [
        "import bs4\n",
        "from bs4 import BeautifulSoup"
      ],
      "metadata": {
        "id": "ltx4ib3XSlO0"
      },
      "execution_count": 16,
      "outputs": []
    },
    {
      "cell_type": "code",
      "source": [
        "url = 'http://www.cgv.co.kr/common/showtimes/iframeTheater.aspx?areacode=01&theatercode=0013&date=20220430'\n",
        "\n",
        "# 쿼리스트링을 잘 파악해야 자동으로 선택되서 들어옴 ! "
      ],
      "metadata": {
        "id": "4EBwNiOaSteL"
      },
      "execution_count": 9,
      "outputs": []
    },
    {
      "cell_type": "code",
      "source": [
        "html = requests.get(url)"
      ],
      "metadata": {
        "id": "YgR-iWqSS1Pk"
      },
      "execution_count": 10,
      "outputs": []
    },
    {
      "cell_type": "code",
      "source": [
        "# print(html.text)\n"
      ],
      "metadata": {
        "id": "qUj9-uDITHPt"
      },
      "execution_count": null,
      "outputs": []
    },
    {
      "cell_type": "code",
      "source": [
        "soup = BeautifulSoup(html.text, 'html.parser')"
      ],
      "metadata": {
        "id": "Ohw1c1ClTIn0"
      },
      "execution_count": 17,
      "outputs": []
    },
    {
      "cell_type": "code",
      "source": [
        "# 구글 크롬 개발자도구에서 셀렉터 카피에서 나오는 child 선택자인 nth-child 를 지원하지 않는다.\n",
        "# tr:nth ->nth-of-type 으로 바꿔준다. \n",
        "# print(soup.select_one('body > div > div.sect-showtimes > ul > li:nth-of-type(1) > div > div.info-movie > a > strong'))\n"
      ],
      "metadata": {
        "colab": {
          "base_uri": "https://localhost:8080/"
        },
        "id": "75e90hHkVANu",
        "outputId": "31767e41-ae80-492f-b56d-890d80e3b267"
      },
      "execution_count": 27,
      "outputs": [
        {
          "output_type": "stream",
          "name": "stdout",
          "text": [
            "<strong>\r\n",
            "                                                신비한 동물들과 덤블도어의 비밀</strong>\n"
          ]
        }
      ]
    },
    {
      "cell_type": "code",
      "source": [
        "title_list= soup.select('div.info-movie')"
      ],
      "metadata": {
        "id": "go21CSoDXjn4"
      },
      "execution_count": 29,
      "outputs": []
    },
    {
      "cell_type": "code",
      "source": [
        "for i in title_list:\n",
        "  print(i.select_one('a > strong').text.strip())  \n",
        "\n",
        "# select one 내부에 쿼리 스트링 띄어쓰기 안하면 안먹힘 \n"
      ],
      "metadata": {
        "colab": {
          "base_uri": "https://localhost:8080/"
        },
        "id": "-LPsqt3lVAtU",
        "outputId": "33fe77ba-ea3d-4fef-b9b8-067b58b73982"
      },
      "execution_count": 34,
      "outputs": [
        {
          "output_type": "stream",
          "name": "stdout",
          "text": [
            "신비한 동물들과 덤블도어의 비밀\n",
            "세븐틴 파워 오브 러브 - 더 무비\n",
            "니 부모 얼굴이 보고 싶다\n",
            "봄날\n",
            "극장판 주술회전 0\n",
            "로스트 시티\n",
            "공기살인\n",
            "앵커\n",
            "뮤지컬 킹키부츠 라이브\n",
            "쿠폰의 여왕\n",
            "내가 처음으로 사랑한 소녀\n",
            "서울괴담\n",
            "극장판 귀멸의 칼날-무한열차편\n",
            "동경 이야기\n",
            "소설가의 영화\n",
            "배드 가이즈\n",
            "안녕하세요\n",
            "만춘\n",
            "우연과 상상\n",
            "더 컨트랙터\n",
            "달빛 그림자\n",
            "몬스터 아카데미\n",
            "날씨의 아이\n",
            "태어나길 잘했어\n",
            "평평남녀\n",
            "오늘부터 우리는!!\n",
            "초속5센티미터\n",
            "로망스 돌\n",
            "약속의 네버랜드\n",
            "카르멘\n",
            "남산의 부장들\n",
            "82년생 김지영\n",
            "사바하\n",
            "명당\n",
            "박열\n"
          ]
        }
      ]
    },
    {
      "cell_type": "code",
      "source": [
        ""
      ],
      "metadata": {
        "id": "Q_zfl-lPX-3z"
      },
      "execution_count": null,
      "outputs": []
    }
  ]
}